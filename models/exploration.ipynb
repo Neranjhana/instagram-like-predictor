{
 "cells": [
  {
   "cell_type": "code",
   "execution_count": 20,
   "metadata": {},
   "outputs": [],
   "source": [
    "import pandas as pd\n",
    "import matplotlib.pyplot as plt\n",
    "import seaborn as sns"
   ]
  },
  {
   "cell_type": "code",
   "execution_count": 4,
   "metadata": {},
   "outputs": [],
   "source": [
    "csv_file_path = \"../data/instagram_data.csv\"\n",
    "df = pd.read_csv(csv_file_path)"
   ]
  },
  {
   "cell_type": "code",
   "execution_count": 5,
   "metadata": {},
   "outputs": [
    {
     "data": {
      "text/html": [
       "<div>\n",
       "<style scoped>\n",
       "    .dataframe tbody tr th:only-of-type {\n",
       "        vertical-align: middle;\n",
       "    }\n",
       "\n",
       "    .dataframe tbody tr th {\n",
       "        vertical-align: top;\n",
       "    }\n",
       "\n",
       "    .dataframe thead th {\n",
       "        text-align: right;\n",
       "    }\n",
       "</style>\n",
       "<table border=\"1\" class=\"dataframe\">\n",
       "  <thead>\n",
       "    <tr style=\"text-align: right;\">\n",
       "      <th></th>\n",
       "      <th>likes</th>\n",
       "      <th>no_of_comments</th>\n",
       "      <th>t</th>\n",
       "      <th>follower_count_at_t</th>\n",
       "      <th>image_path</th>\n",
       "    </tr>\n",
       "  </thead>\n",
       "  <tbody>\n",
       "    <tr>\n",
       "      <th>0</th>\n",
       "      <td>154552</td>\n",
       "      <td>0</td>\n",
       "      <td>1594174009</td>\n",
       "      <td>40934474</td>\n",
       "      <td>../Data/insta_data/0.jpg</td>\n",
       "    </tr>\n",
       "    <tr>\n",
       "      <th>1</th>\n",
       "      <td>97386</td>\n",
       "      <td>0</td>\n",
       "      <td>1593571666</td>\n",
       "      <td>40934474</td>\n",
       "      <td>../Data/insta_data/2.jpg</td>\n",
       "    </tr>\n",
       "    <tr>\n",
       "      <th>2</th>\n",
       "      <td>145632</td>\n",
       "      <td>0</td>\n",
       "      <td>1593136341</td>\n",
       "      <td>40934474</td>\n",
       "      <td>../Data/insta_data/4.jpg</td>\n",
       "    </tr>\n",
       "    <tr>\n",
       "      <th>3</th>\n",
       "      <td>76461</td>\n",
       "      <td>0</td>\n",
       "      <td>1592981047</td>\n",
       "      <td>40934474</td>\n",
       "      <td>../Data/insta_data/6.jpg</td>\n",
       "    </tr>\n",
       "    <tr>\n",
       "      <th>4</th>\n",
       "      <td>174620</td>\n",
       "      <td>0</td>\n",
       "      <td>1592703461</td>\n",
       "      <td>40934474</td>\n",
       "      <td>../Data/insta_data/8.jpg</td>\n",
       "    </tr>\n",
       "  </tbody>\n",
       "</table>\n",
       "</div>"
      ],
      "text/plain": [
       "    likes  no_of_comments           t  follower_count_at_t  \\\n",
       "0  154552               0  1594174009             40934474   \n",
       "1   97386               0  1593571666             40934474   \n",
       "2  145632               0  1593136341             40934474   \n",
       "3   76461               0  1592981047             40934474   \n",
       "4  174620               0  1592703461             40934474   \n",
       "\n",
       "                 image_path  \n",
       "0  ../Data/insta_data/0.jpg  \n",
       "1  ../Data/insta_data/2.jpg  \n",
       "2  ../Data/insta_data/4.jpg  \n",
       "3  ../Data/insta_data/6.jpg  \n",
       "4  ../Data/insta_data/8.jpg  "
      ]
     },
     "execution_count": 5,
     "metadata": {},
     "output_type": "execute_result"
    }
   ],
   "source": [
    "df.head()"
   ]
  },
  {
   "cell_type": "code",
   "execution_count": 6,
   "metadata": {},
   "outputs": [
    {
     "name": "stdout",
     "output_type": "stream",
     "text": [
      "              likes  no_of_comments             t  follower_count_at_t\n",
      "count  3.785000e+03     3785.000000  3.785000e+03         3.785000e+03\n",
      "mean   1.832536e+05     2531.382827  1.585137e+09         1.409485e+07\n",
      "std    1.936969e+05    21064.081137  1.322603e+07         9.402605e+06\n",
      "min    1.431000e+03        0.000000  1.489547e+09         1.870000e+02\n",
      "25%    5.208700e+04      194.000000  1.582540e+09         7.296298e+06\n",
      "50%    1.236640e+05      484.000000  1.588855e+09         1.104970e+07\n",
      "75%    2.431440e+05     1337.000000  1.592738e+09         1.836292e+07\n",
      "max    2.161369e+06   733973.000000  1.594541e+09         4.093447e+07\n"
     ]
    }
   ],
   "source": [
    "print(df.describe())"
   ]
  },
  {
   "cell_type": "code",
   "execution_count": 8,
   "metadata": {},
   "outputs": [
    {
     "name": "stdout",
     "output_type": "stream",
     "text": [
      "                datetime day_of_week  hour_of_day\n",
      "0    2020-07-08 02:06:49   Wednesday            2\n",
      "1    2020-07-01 02:47:46   Wednesday            2\n",
      "2    2020-06-26 01:52:21      Friday            1\n",
      "3    2020-06-24 06:44:07   Wednesday            6\n",
      "4    2020-06-21 01:37:41      Sunday            1\n",
      "...                  ...         ...          ...\n",
      "3780 2019-04-13 14:11:14    Saturday           14\n",
      "3781 2019-04-08 06:51:22      Monday            6\n",
      "3782 2019-03-30 11:39:56    Saturday           11\n",
      "3783 2019-03-15 10:18:08      Friday           10\n",
      "3784 2019-03-07 05:46:48    Thursday            5\n",
      "\n",
      "[3785 rows x 3 columns]\n"
     ]
    }
   ],
   "source": [
    "# converting unix time to date-time format\n",
    "df['datetime'] = pd.to_datetime(df['t'], unit='s')\n",
    "\n",
    "# Extract features like day, hour, etc.\n",
    "df['day_of_week'] = df['datetime'].dt.day_name()\n",
    "df['hour_of_day'] = df['datetime'].dt.hour\n",
    "\n",
    "print(df[['datetime', 'day_of_week', 'hour_of_day']])"
   ]
  },
  {
   "cell_type": "code",
   "execution_count": 9,
   "metadata": {},
   "outputs": [
    {
     "name": "stdout",
     "output_type": "stream",
     "text": [
      "              likes  no_of_comments             t  follower_count_at_t  \\\n",
      "count  3.785000e+03     3785.000000  3.785000e+03         3.785000e+03   \n",
      "mean   1.832536e+05     2531.382827  1.585137e+09         1.409485e+07   \n",
      "min    1.431000e+03        0.000000  1.489547e+09         1.870000e+02   \n",
      "25%    5.208700e+04      194.000000  1.582540e+09         7.296298e+06   \n",
      "50%    1.236640e+05      484.000000  1.588855e+09         1.104970e+07   \n",
      "75%    2.431440e+05     1337.000000  1.592738e+09         1.836292e+07   \n",
      "max    2.161369e+06   733973.000000  1.594541e+09         4.093447e+07   \n",
      "std    1.936969e+05    21064.081137  1.322603e+07         9.402605e+06   \n",
      "\n",
      "                            datetime  hour_of_day  \n",
      "count                           3785  3785.000000  \n",
      "mean   2020-03-25 11:55:38.107265536     8.828005  \n",
      "min              2017-03-15 03:00:08     0.000000  \n",
      "25%              2020-02-24 10:30:23     5.000000  \n",
      "50%              2020-05-07 12:34:28     9.000000  \n",
      "75%              2020-06-21 11:08:14    12.000000  \n",
      "max              2020-07-12 08:05:02    23.000000  \n",
      "std                              NaN     4.832037  \n"
     ]
    }
   ],
   "source": [
    "print(df.describe())"
   ]
  },
  {
   "cell_type": "code",
   "execution_count": 10,
   "metadata": {},
   "outputs": [],
   "source": [
    "#drop the unix time column"
   ]
  },
  {
   "cell_type": "code",
   "execution_count": 11,
   "metadata": {},
   "outputs": [],
   "source": [
    "df = df.drop('t', axis=1)"
   ]
  },
  {
   "cell_type": "code",
   "execution_count": 12,
   "metadata": {},
   "outputs": [
    {
     "data": {
      "text/html": [
       "<div>\n",
       "<style scoped>\n",
       "    .dataframe tbody tr th:only-of-type {\n",
       "        vertical-align: middle;\n",
       "    }\n",
       "\n",
       "    .dataframe tbody tr th {\n",
       "        vertical-align: top;\n",
       "    }\n",
       "\n",
       "    .dataframe thead th {\n",
       "        text-align: right;\n",
       "    }\n",
       "</style>\n",
       "<table border=\"1\" class=\"dataframe\">\n",
       "  <thead>\n",
       "    <tr style=\"text-align: right;\">\n",
       "      <th></th>\n",
       "      <th>likes</th>\n",
       "      <th>no_of_comments</th>\n",
       "      <th>follower_count_at_t</th>\n",
       "      <th>image_path</th>\n",
       "      <th>datetime</th>\n",
       "      <th>day_of_week</th>\n",
       "      <th>hour_of_day</th>\n",
       "    </tr>\n",
       "  </thead>\n",
       "  <tbody>\n",
       "    <tr>\n",
       "      <th>0</th>\n",
       "      <td>154552</td>\n",
       "      <td>0</td>\n",
       "      <td>40934474</td>\n",
       "      <td>../Data/insta_data/0.jpg</td>\n",
       "      <td>2020-07-08 02:06:49</td>\n",
       "      <td>Wednesday</td>\n",
       "      <td>2</td>\n",
       "    </tr>\n",
       "    <tr>\n",
       "      <th>1</th>\n",
       "      <td>97386</td>\n",
       "      <td>0</td>\n",
       "      <td>40934474</td>\n",
       "      <td>../Data/insta_data/2.jpg</td>\n",
       "      <td>2020-07-01 02:47:46</td>\n",
       "      <td>Wednesday</td>\n",
       "      <td>2</td>\n",
       "    </tr>\n",
       "    <tr>\n",
       "      <th>2</th>\n",
       "      <td>145632</td>\n",
       "      <td>0</td>\n",
       "      <td>40934474</td>\n",
       "      <td>../Data/insta_data/4.jpg</td>\n",
       "      <td>2020-06-26 01:52:21</td>\n",
       "      <td>Friday</td>\n",
       "      <td>1</td>\n",
       "    </tr>\n",
       "    <tr>\n",
       "      <th>3</th>\n",
       "      <td>76461</td>\n",
       "      <td>0</td>\n",
       "      <td>40934474</td>\n",
       "      <td>../Data/insta_data/6.jpg</td>\n",
       "      <td>2020-06-24 06:44:07</td>\n",
       "      <td>Wednesday</td>\n",
       "      <td>6</td>\n",
       "    </tr>\n",
       "    <tr>\n",
       "      <th>4</th>\n",
       "      <td>174620</td>\n",
       "      <td>0</td>\n",
       "      <td>40934474</td>\n",
       "      <td>../Data/insta_data/8.jpg</td>\n",
       "      <td>2020-06-21 01:37:41</td>\n",
       "      <td>Sunday</td>\n",
       "      <td>1</td>\n",
       "    </tr>\n",
       "  </tbody>\n",
       "</table>\n",
       "</div>"
      ],
      "text/plain": [
       "    likes  no_of_comments  follower_count_at_t                image_path  \\\n",
       "0  154552               0             40934474  ../Data/insta_data/0.jpg   \n",
       "1   97386               0             40934474  ../Data/insta_data/2.jpg   \n",
       "2  145632               0             40934474  ../Data/insta_data/4.jpg   \n",
       "3   76461               0             40934474  ../Data/insta_data/6.jpg   \n",
       "4  174620               0             40934474  ../Data/insta_data/8.jpg   \n",
       "\n",
       "             datetime day_of_week  hour_of_day  \n",
       "0 2020-07-08 02:06:49   Wednesday            2  \n",
       "1 2020-07-01 02:47:46   Wednesday            2  \n",
       "2 2020-06-26 01:52:21      Friday            1  \n",
       "3 2020-06-24 06:44:07   Wednesday            6  \n",
       "4 2020-06-21 01:37:41      Sunday            1  "
      ]
     },
     "execution_count": 12,
     "metadata": {},
     "output_type": "execute_result"
    }
   ],
   "source": [
    "df.head()"
   ]
  },
  {
   "cell_type": "code",
   "execution_count": 13,
   "metadata": {},
   "outputs": [
    {
     "name": "stdout",
     "output_type": "stream",
     "text": [
      "Missing values in each column:\n",
      "likes                  0\n",
      "no_of_comments         0\n",
      "follower_count_at_t    0\n",
      "image_path             0\n",
      "datetime               0\n",
      "day_of_week            0\n",
      "hour_of_day            0\n",
      "dtype: int64\n"
     ]
    }
   ],
   "source": [
    "# Check for missing values\n",
    "missing_values = df.isna().sum()\n",
    "\n",
    "# Print missing values\n",
    "print(\"Missing values in each column:\")\n",
    "print(missing_values)\n"
   ]
  },
  {
   "cell_type": "code",
   "execution_count": 14,
   "metadata": {},
   "outputs": [],
   "source": [
    "#It has been found that there are no missing values. We can check for outliers if any"
   ]
  },
  {
   "cell_type": "code",
   "execution_count": 15,
   "metadata": {},
   "outputs": [],
   "source": [
    "def detect_outliers_iqr(df, columns):\n",
    "    outliers = {}\n",
    "    for column in columns:\n",
    "        Q1 = df[column].quantile(0.25)\n",
    "        Q3 = df[column].quantile(0.75)\n",
    "        IQR = Q3 - Q1\n",
    "        lower_bound = Q1 - 1.5 * IQR\n",
    "        upper_bound = Q3 + 1.5 * IQR\n",
    "        outlier_condition = (df[column] < lower_bound) | (df[column] > upper_bound)\n",
    "        outliers[column] = df[outlier_condition]\n",
    "    \n",
    "    return outliers"
   ]
  },
  {
   "cell_type": "code",
   "execution_count": 17,
   "metadata": {},
   "outputs": [],
   "source": [
    "#The columns that we want to check for outliers"
   ]
  },
  {
   "cell_type": "code",
   "execution_count": 18,
   "metadata": {},
   "outputs": [],
   "source": [
    "columns_to_check = ['likes', 'no_of_comments', 'follower_count_at_t']"
   ]
  },
  {
   "cell_type": "code",
   "execution_count": 23,
   "metadata": {},
   "outputs": [
    {
     "name": "stdout",
     "output_type": "stream",
     "text": [
      "\n",
      "Outliers in likes:\n",
      "        likes  no_of_comments  follower_count_at_t  \\\n",
      "134    552727            6086             40220549   \n",
      "135    546724            3541             40220549   \n",
      "136   1001243            4715             40220549   \n",
      "149    622837            4395             40220549   \n",
      "151    570423            4675             40220549   \n",
      "...       ...             ...                  ...   \n",
      "3328   906701           10869              7098245   \n",
      "3331   539046            1628              7098245   \n",
      "3599   555781            8334              4825675   \n",
      "3761   616456           11853              4229627   \n",
      "3767   563155           13647              4229627   \n",
      "\n",
      "                       image_path            datetime day_of_week  hour_of_day  \n",
      "134    ../Data/insta_data/411.jpg 2020-07-03 06:11:42      Friday            6  \n",
      "135    ../Data/insta_data/412.jpg 2020-07-02 04:58:09    Thursday            4  \n",
      "136    ../Data/insta_data/413.jpg 2020-06-29 04:24:02      Monday            4  \n",
      "149    ../Data/insta_data/430.jpg 2020-05-24 05:46:26      Sunday            5  \n",
      "151    ../Data/insta_data/433.jpg 2020-05-13 05:20:22   Wednesday            5  \n",
      "...                           ...                 ...         ...          ...  \n",
      "3328  ../Data/insta_data/8176.jpg 2020-05-05 14:32:06     Tuesday           14  \n",
      "3331  ../Data/insta_data/8185.jpg 2020-05-02 02:38:00    Saturday            2  \n",
      "3599  ../Data/insta_data/9082.jpg 2020-06-08 12:59:07      Monday           12  \n",
      "3761  ../Data/insta_data/9401.jpg 2020-01-09 12:21:40    Thursday           12  \n",
      "3767  ../Data/insta_data/9412.jpg 2019-10-21 05:40:20      Monday            5  \n",
      "\n",
      "[212 rows x 7 columns]\n",
      "\n",
      "Outliers in no_of_comments:\n",
      "       likes  no_of_comments  follower_count_at_t  \\\n",
      "49     44899          148536             37229501   \n",
      "70     64193          179496             37229501   \n",
      "71     81200          187754             37229501   \n",
      "72     61245          167991             37229501   \n",
      "73     34686            4294             37229501   \n",
      "...      ...             ...                  ...   \n",
      "3767  563155           13647              4229627   \n",
      "3769  307388            4298              4229627   \n",
      "3774  310705            4106              4229627   \n",
      "3779  339901            5970              4229627   \n",
      "3780  341895            6029              4229627   \n",
      "\n",
      "                       image_path            datetime day_of_week  hour_of_day  \n",
      "49     ../Data/insta_data/194.jpg 2020-07-08 11:35:52   Wednesday           11  \n",
      "70     ../Data/insta_data/254.jpg 2020-06-13 11:30:22    Saturday           11  \n",
      "71     ../Data/insta_data/260.jpg 2020-06-07 02:05:45      Sunday            2  \n",
      "72     ../Data/insta_data/263.jpg 2020-06-06 08:17:44    Saturday            8  \n",
      "73     ../Data/insta_data/264.jpg 2020-06-06 05:22:57    Saturday            5  \n",
      "...                           ...                 ...         ...          ...  \n",
      "3767  ../Data/insta_data/9412.jpg 2019-10-21 05:40:20      Monday            5  \n",
      "3769  ../Data/insta_data/9414.jpg 2019-10-11 10:03:46      Friday           10  \n",
      "3774  ../Data/insta_data/9428.jpg 2019-06-21 06:57:38      Friday            6  \n",
      "3779  ../Data/insta_data/9434.jpg 2019-04-14 08:27:31      Sunday            8  \n",
      "3780  ../Data/insta_data/9435.jpg 2019-04-13 14:11:14    Saturday           14  \n",
      "\n",
      "[445 rows x 7 columns]\n",
      "\n",
      "Outliers in follower_count_at_t:\n",
      "      likes  no_of_comments  follower_count_at_t                  image_path  \\\n",
      "0    154552               0             40934474    ../Data/insta_data/0.jpg   \n",
      "1     97386               0             40934474    ../Data/insta_data/2.jpg   \n",
      "2    145632               0             40934474    ../Data/insta_data/4.jpg   \n",
      "3     76461               0             40934474    ../Data/insta_data/6.jpg   \n",
      "4    174620               0             40934474    ../Data/insta_data/8.jpg   \n",
      "..      ...             ...                  ...                         ...   \n",
      "206  424297            2083             40220549  ../Data/insta_data/509.jpg   \n",
      "207  862073            1848             40220549  ../Data/insta_data/510.jpg   \n",
      "208  473091            4319             40220549  ../Data/insta_data/511.jpg   \n",
      "209  293672            1665             40220549  ../Data/insta_data/512.jpg   \n",
      "210  463836            2369             40220549  ../Data/insta_data/513.jpg   \n",
      "\n",
      "               datetime day_of_week  hour_of_day  \n",
      "0   2020-07-08 02:06:49   Wednesday            2  \n",
      "1   2020-07-01 02:47:46   Wednesday            2  \n",
      "2   2020-06-26 01:52:21      Friday            1  \n",
      "3   2020-06-24 06:44:07   Wednesday            6  \n",
      "4   2020-06-21 01:37:41      Sunday            1  \n",
      "..                  ...         ...          ...  \n",
      "206 2019-12-11 06:05:46   Wednesday            6  \n",
      "207 2019-12-10 04:00:46     Tuesday            4  \n",
      "208 2019-12-09 09:40:00      Monday            9  \n",
      "209 2019-12-08 10:17:11      Sunday           10  \n",
      "210 2019-12-06 07:21:10      Friday            7  \n",
      "\n",
      "[211 rows x 7 columns]\n"
     ]
    }
   ],
   "source": [
    "def detect_outliers_iqr(df, columns):\n",
    "    outliers = {}\n",
    "    for col in columns:\n",
    "        Q1 = df[col].quantile(0.25)\n",
    "        Q3 = df[col].quantile(0.75)\n",
    "        IQR = Q3 - Q1\n",
    "        lower_bound = Q1 - 1.5 * IQR\n",
    "        upper_bound = Q3 + 1.5 * IQR\n",
    "        outliers_df = df[(df[col] < lower_bound) | (df[col] > upper_bound)]\n",
    "        outliers[col] = outliers_df\n",
    "    return outliers\n",
    "\n",
    "# Example usage\n",
    "outliers = detect_outliers_iqr(df, columns_to_check)\n",
    "\n",
    "# Print outliers for each column separately\n",
    "for col, outlier_df in outliers.items():\n",
    "    print(f\"\\nOutliers in {col}:\")\n",
    "    if not outlier_df.empty:\n",
    "        print(outlier_df)\n",
    "    else:\n",
    "        print(f\"No outliers detected in {col}.\")"
   ]
  },
  {
   "cell_type": "code",
   "execution_count": 27,
   "metadata": {},
   "outputs": [
    {
     "name": "stdout",
     "output_type": "stream",
     "text": [
      "\n",
      "Extreme Outliers in likes:\n",
      "        likes  no_of_comments  follower_count_at_t  \\\n",
      "591   2161369           37106             21737604   \n",
      "592   1122787            2685             21737604   \n",
      "593   2127367           17250             21737604   \n",
      "594   1305616           13219             21737604   \n",
      "595   1544210           34196             21737604   \n",
      "857   1025364           13945             24744858   \n",
      "859   1064782            9818             24744858   \n",
      "873   1211850           27522             24744858   \n",
      "878   1347694           21213             24744858   \n",
      "1245  1127774           15463             13781991   \n",
      "1254  1151090           16653             13781991   \n",
      "1256  1428182           17651             13781991   \n",
      "1259  1007986           13825             13781991   \n",
      "1269  1023273           19832             13781991   \n",
      "1273  1046126           20906             13781991   \n",
      "1276  1028026           10601             13781991   \n",
      "1290  1197266           32274             13781991   \n",
      "1291  1114075           28371             13781991   \n",
      "1295  1187749           28060             13781991   \n",
      "1299  1338235           30256             13781991   \n",
      "1301  1314598           23560             13781991   \n",
      "1302  1572139           44624             13781991   \n",
      "1304  1398639           29502             13781991   \n",
      "1676  1054132            5490             15786356   \n",
      "2116  1084446           15108             10002870   \n",
      "3312  1014836           11091              7098245   \n",
      "\n",
      "                       image_path            datetime day_of_week  hour_of_day  \n",
      "591   ../Data/insta_data/1471.jpg 2020-05-28 08:11:25    Thursday            8  \n",
      "592   ../Data/insta_data/1472.jpg 2020-05-24 09:32:20      Sunday            9  \n",
      "593   ../Data/insta_data/1474.jpg 2020-05-24 04:15:59      Sunday            4  \n",
      "594   ../Data/insta_data/1475.jpg 2020-04-24 05:18:06      Friday            5  \n",
      "595   ../Data/insta_data/1476.jpg 2020-04-09 03:47:59    Thursday            3  \n",
      "857   ../Data/insta_data/2004.jpg 2020-07-11 09:57:44    Saturday            9  \n",
      "859   ../Data/insta_data/2006.jpg 2020-07-09 18:05:10    Thursday           18  \n",
      "873   ../Data/insta_data/2026.jpg 2020-06-13 08:06:47    Saturday            8  \n",
      "878   ../Data/insta_data/2034.jpg 2020-05-25 12:58:03      Monday           12  \n",
      "1245  ../Data/insta_data/2896.jpg 2020-06-12 11:43:38      Friday           11  \n",
      "1254  ../Data/insta_data/2910.jpg 2020-02-16 15:27:48      Sunday           15  \n",
      "1256  ../Data/insta_data/2914.jpg 2020-02-13 15:38:42    Thursday           15  \n",
      "1259  ../Data/insta_data/2921.jpg 2020-01-24 06:10:58      Friday            6  \n",
      "1269  ../Data/insta_data/2933.jpg 2019-11-18 07:29:43      Monday            7  \n",
      "1273  ../Data/insta_data/2941.jpg 2019-10-06 13:34:18      Sunday           13  \n",
      "1276  ../Data/insta_data/2947.jpg 2019-09-11 05:59:42   Wednesday            5  \n",
      "1290  ../Data/insta_data/2972.jpg 2019-06-19 11:18:09   Wednesday           11  \n",
      "1291  ../Data/insta_data/2973.jpg 2019-05-14 06:41:04     Tuesday            6  \n",
      "1295  ../Data/insta_data/2978.jpg 2019-04-12 02:05:14      Friday            2  \n",
      "1299  ../Data/insta_data/2983.jpg 2019-03-10 12:23:11      Sunday           12  \n",
      "1301  ../Data/insta_data/2986.jpg 2019-03-04 11:15:33      Monday           11  \n",
      "1302  ../Data/insta_data/2987.jpg 2019-02-28 02:27:38    Thursday            2  \n",
      "1304  ../Data/insta_data/2993.jpg 2019-02-16 05:49:17    Saturday            5  \n",
      "1676  ../Data/insta_data/3737.jpg 2020-06-10 08:30:25   Wednesday            8  \n",
      "2116  ../Data/insta_data/4734.jpg 2020-06-23 13:43:25     Tuesday           13  \n",
      "3312  ../Data/insta_data/8118.jpg 2020-06-12 13:46:00      Friday           13  \n",
      "\n",
      "Extreme Outliers in no_of_comments:\n",
      "       likes  no_of_comments  follower_count_at_t  \\\n",
      "49     44899          148536             37229501   \n",
      "70     64193          179496             37229501   \n",
      "71     81200          187754             37229501   \n",
      "72     61245          167991             37229501   \n",
      "81    158977          733973             37229501   \n",
      "...      ...             ...                  ...   \n",
      "3751  426947            9205              4229627   \n",
      "3761  616456           11853              4229627   \n",
      "3767  563155           13647              4229627   \n",
      "3779  339901            5970              4229627   \n",
      "3780  341895            6029              4229627   \n",
      "\n",
      "                       image_path            datetime day_of_week  hour_of_day  \n",
      "49     ../Data/insta_data/194.jpg 2020-07-08 11:35:52   Wednesday           11  \n",
      "70     ../Data/insta_data/254.jpg 2020-06-13 11:30:22    Saturday           11  \n",
      "71     ../Data/insta_data/260.jpg 2020-06-07 02:05:45      Sunday            2  \n",
      "72     ../Data/insta_data/263.jpg 2020-06-06 08:17:44    Saturday            8  \n",
      "81     ../Data/insta_data/297.jpg 2020-05-22 11:01:59      Friday           11  \n",
      "...                           ...                 ...         ...          ...  \n",
      "3751  ../Data/insta_data/9379.jpg 2020-05-15 02:56:29      Friday            2  \n",
      "3761  ../Data/insta_data/9401.jpg 2020-01-09 12:21:40    Thursday           12  \n",
      "3767  ../Data/insta_data/9412.jpg 2019-10-21 05:40:20      Monday            5  \n",
      "3779  ../Data/insta_data/9434.jpg 2019-04-14 08:27:31      Sunday            8  \n",
      "3780  ../Data/insta_data/9435.jpg 2019-04-13 14:11:14    Saturday           14  \n",
      "\n",
      "[196 rows x 7 columns]\n",
      "\n",
      "Extreme Outliers in follower_count_at_t:\n",
      "No extreme outliers detected in follower_count_at_t.\n",
      "\n",
      "Cleaned DataFrame after removing extreme outliers:\n",
      "       likes  no_of_comments  follower_count_at_t  \\\n",
      "0     154552               0             40934474   \n",
      "1      97386               0             40934474   \n",
      "2     145632               0             40934474   \n",
      "3      76461               0             40934474   \n",
      "4     174620               0             40934474   \n",
      "...      ...             ...                  ...   \n",
      "3778   72314            1010              4229627   \n",
      "3781  217095            2591              4229627   \n",
      "3782   17902             253              4229627   \n",
      "3783  141694            1175              4229627   \n",
      "3784   95348             675              4229627   \n",
      "\n",
      "                       image_path            datetime day_of_week  hour_of_day  \n",
      "0        ../Data/insta_data/0.jpg 2020-07-08 02:06:49   Wednesday            2  \n",
      "1        ../Data/insta_data/2.jpg 2020-07-01 02:47:46   Wednesday            2  \n",
      "2        ../Data/insta_data/4.jpg 2020-06-26 01:52:21      Friday            1  \n",
      "3        ../Data/insta_data/6.jpg 2020-06-24 06:44:07   Wednesday            6  \n",
      "4        ../Data/insta_data/8.jpg 2020-06-21 01:37:41      Sunday            1  \n",
      "...                           ...                 ...         ...          ...  \n",
      "3778  ../Data/insta_data/9433.jpg 2019-04-21 11:57:03      Sunday           11  \n",
      "3781  ../Data/insta_data/9436.jpg 2019-04-08 06:51:22      Monday            6  \n",
      "3782  ../Data/insta_data/9437.jpg 2019-03-30 11:39:56    Saturday           11  \n",
      "3783  ../Data/insta_data/9442.jpg 2019-03-15 10:18:08      Friday           10  \n",
      "3784  ../Data/insta_data/9444.jpg 2019-03-07 05:46:48    Thursday            5  \n",
      "\n",
      "[3587 rows x 7 columns]\n"
     ]
    }
   ],
   "source": [
    "def detect_and_remove_extreme_outliers(df, columns, multiplier=4):\n",
    "    # Detect extreme outliers using IQR method\n",
    "    extreme_outliers = {}\n",
    "    indices_to_remove = set()\n",
    "    \n",
    "    for col in columns:\n",
    "        Q1 = df[col].quantile(0.25)\n",
    "        Q3 = df[col].quantile(0.75)\n",
    "        IQR = Q3 - Q1\n",
    "        lower_bound = Q1 - multiplier * IQR\n",
    "        upper_bound = Q3 + multiplier * IQR\n",
    "        extreme_outliers_df = df[(df[col] < lower_bound) | (df[col] > upper_bound)]\n",
    "        \n",
    "        # Store the indices of outliers for this column\n",
    "        indices_to_remove.update(extreme_outliers_df.index)\n",
    "        extreme_outliers[col] = extreme_outliers_df\n",
    "\n",
    "    # Remove the outliers from the DataFrame\n",
    "    cleaned_df = df.drop(index=indices_to_remove)\n",
    "    \n",
    "    return extreme_outliers, cleaned_df\n",
    "\n",
    "# Example usage with higher multiplier\n",
    "outliers, cleaned_df = detect_and_remove_extreme_outliers(df, columns_to_check, multiplier=4)\n",
    "\n",
    "# Print the extreme outliers\n",
    "for col, outlier_df in outliers.items():\n",
    "    print(f\"\\nExtreme Outliers in {col}:\")\n",
    "    if not outlier_df.empty:\n",
    "        print(outlier_df)\n",
    "    else:\n",
    "        print(f\"No extreme outliers detected in {col}.\")\n",
    "\n",
    "# Show the cleaned DataFrame after removing the extreme outliers\n",
    "print(\"\\nCleaned DataFrame after removing extreme outliers:\")\n",
    "print(cleaned_df)\n"
   ]
  },
  {
   "cell_type": "code",
   "execution_count": 29,
   "metadata": {},
   "outputs": [
    {
     "name": "stdout",
     "output_type": "stream",
     "text": [
      "BOX PLOT BEFORE OUTLIER REMOVAL\n"
     ]
    },
    {
     "data": {
      "image/png": "[encoded data removed]",
      "text/plain": [
       "<Figure size 600x400 with 1 Axes>"
      ]
     },
     "metadata": {},
     "output_type": "display_data"
    },
    {
     "data": {
      "image/png": "[encoded data removed]",
      "text/plain": [
       "<Figure size 600x400 with 1 Axes>"
      ]
     },
     "metadata": {},
     "output_type": "display_data"
    },
    {
     "data": {
      "image/png": "[encoded data removed]",
      "text/plain": [
       "<Figure size 600x400 with 1 Axes>"
      ]
     },
     "metadata": {},
     "output_type": "display_data"
    }
   ],
   "source": [
    "print(\"BOX PLOT BEFORE OUTLIER REMOVAL\")\n",
    "\n",
    "for column in columns_to_check:\n",
    "    plt.figure(figsize=(6, 4))\n",
    "    sns.boxplot(x=df[column])\n",
    "    plt.title(f'Box Plot for {column}')\n",
    "    plt.xlabel(column)\n",
    "    plt.grid(axis='y')  # Optional: add a grid for better visibility\n",
    "    plt.show()"
   ]
  },
  {
   "cell_type": "code",
   "execution_count": 30,
   "metadata": {},
   "outputs": [
    {
     "name": "stdout",
     "output_type": "stream",
     "text": [
      "BOX PLOT AFTER OUTLIER REMOVAL\n"
     ]
    },
    {
     "data": {
      "image/png": "[encoded data removed]",
      "text/plain": [
       "<Figure size 600x400 with 1 Axes>"
      ]
     },
     "metadata": {},
     "output_type": "display_data"
    },
    {
     "data": {
      "image/png": "[encoded data removed]",
      "text/plain": [
       "<Figure size 600x400 with 1 Axes>"
      ]
     },
     "metadata": {},
     "output_type": "display_data"
    },
    {
     "data": {
      "image/png": "[encoded data removed]",
      "text/plain": [
       "<Figure size 600x400 with 1 Axes>"
      ]
     },
     "metadata": {},
     "output_type": "display_data"
    }
   ],
   "source": [
    "print(\"BOX PLOT AFTER OUTLIER REMOVAL\")\n",
    "for column in columns_to_check:\n",
    "    plt.figure(figsize=(6, 4))\n",
    "    sns.boxplot(x=cleaned_df[column])\n",
    "    plt.title(f'Box Plot for {column}')\n",
    "    plt.xlabel(column)\n",
    "    plt.grid(axis='y')  # Optional: add a grid for better visibility\n",
    "    plt.show()"
   ]
  },
  {
   "cell_type": "code",
   "execution_count": 32,
   "metadata": {},
   "outputs": [],
   "source": [
    "import numpy as np\n",
    "#GOING TO IMPLEMENT CYCLIC ENCODING FOR DAY_OF_WEEK\n",
    "# Map each day of the week to a number (Monday = 0, Sunday = 6)\n",
    "day_to_num = {\n",
    "    'Monday': 0, 'Tuesday': 1, 'Wednesday': 2, 'Thursday': 3, \n",
    "    'Friday': 4, 'Saturday': 5, 'Sunday': 6\n",
    "}\n",
    "cleaned_df['day_of_week_num'] = cleaned_df['day_of_week'].map(day_to_num)\n",
    "\n",
    "# Perform cyclical encoding using sine and cosine transformations\n",
    "cleaned_df['day_of_week_sin'] = np.sin(2 * np.pi * cleaned_df['day_of_week_num'] / 7)\n",
    "cleaned_df['day_of_week_cos'] = np.cos(2 * np.pi * cleaned_df['day_of_week_num'] / 7)"
   ]
  },
  {
   "cell_type": "code",
   "execution_count": 34,
   "metadata": {},
   "outputs": [],
   "source": [
    "cleaned_df = cleaned_df.drop('day_of_week', axis=1)"
   ]
  },
  {
   "cell_type": "code",
   "execution_count": 36,
   "metadata": {},
   "outputs": [],
   "source": [
    "cleaned_df = cleaned_df.drop('day_of_week_num', axis=1)"
   ]
  },
  {
   "cell_type": "code",
   "execution_count": 37,
   "metadata": {},
   "outputs": [
    {
     "data": {
      "text/html": [
       "<div>\n",
       "<style scoped>\n",
       "    .dataframe tbody tr th:only-of-type {\n",
       "        vertical-align: middle;\n",
       "    }\n",
       "\n",
       "    .dataframe tbody tr th {\n",
       "        vertical-align: top;\n",
       "    }\n",
       "\n",
       "    .dataframe thead th {\n",
       "        text-align: right;\n",
       "    }\n",
       "</style>\n",
       "<table border=\"1\" class=\"dataframe\">\n",
       "  <thead>\n",
       "    <tr style=\"text-align: right;\">\n",
       "      <th></th>\n",
       "      <th>likes</th>\n",
       "      <th>no_of_comments</th>\n",
       "      <th>follower_count_at_t</th>\n",
       "      <th>image_path</th>\n",
       "      <th>datetime</th>\n",
       "      <th>hour_of_day</th>\n",
       "      <th>day_of_week_sin</th>\n",
       "      <th>day_of_week_cos</th>\n",
       "    </tr>\n",
       "  </thead>\n",
       "  <tbody>\n",
       "    <tr>\n",
       "      <th>0</th>\n",
       "      <td>154552</td>\n",
       "      <td>0</td>\n",
       "      <td>40934474</td>\n",
       "      <td>../Data/insta_data/0.jpg</td>\n",
       "      <td>2020-07-08 02:06:49</td>\n",
       "      <td>2</td>\n",
       "      <td>0.974928</td>\n",
       "      <td>-0.222521</td>\n",
       "    </tr>\n",
       "    <tr>\n",
       "      <th>1</th>\n",
       "      <td>97386</td>\n",
       "      <td>0</td>\n",
       "      <td>40934474</td>\n",
       "      <td>../Data/insta_data/2.jpg</td>\n",
       "      <td>2020-07-01 02:47:46</td>\n",
       "      <td>2</td>\n",
       "      <td>0.974928</td>\n",
       "      <td>-0.222521</td>\n",
       "    </tr>\n",
       "    <tr>\n",
       "      <th>2</th>\n",
       "      <td>145632</td>\n",
       "      <td>0</td>\n",
       "      <td>40934474</td>\n",
       "      <td>../Data/insta_data/4.jpg</td>\n",
       "      <td>2020-06-26 01:52:21</td>\n",
       "      <td>1</td>\n",
       "      <td>-0.433884</td>\n",
       "      <td>-0.900969</td>\n",
       "    </tr>\n",
       "    <tr>\n",
       "      <th>3</th>\n",
       "      <td>76461</td>\n",
       "      <td>0</td>\n",
       "      <td>40934474</td>\n",
       "      <td>../Data/insta_data/6.jpg</td>\n",
       "      <td>2020-06-24 06:44:07</td>\n",
       "      <td>6</td>\n",
       "      <td>0.974928</td>\n",
       "      <td>-0.222521</td>\n",
       "    </tr>\n",
       "    <tr>\n",
       "      <th>4</th>\n",
       "      <td>174620</td>\n",
       "      <td>0</td>\n",
       "      <td>40934474</td>\n",
       "      <td>../Data/insta_data/8.jpg</td>\n",
       "      <td>2020-06-21 01:37:41</td>\n",
       "      <td>1</td>\n",
       "      <td>-0.781831</td>\n",
       "      <td>0.623490</td>\n",
       "    </tr>\n",
       "  </tbody>\n",
       "</table>\n",
       "</div>"
      ],
      "text/plain": [
       "    likes  no_of_comments  follower_count_at_t                image_path  \\\n",
       "0  154552               0             40934474  ../Data/insta_data/0.jpg   \n",
       "1   97386               0             40934474  ../Data/insta_data/2.jpg   \n",
       "2  145632               0             40934474  ../Data/insta_data/4.jpg   \n",
       "3   76461               0             40934474  ../Data/insta_data/6.jpg   \n",
       "4  174620               0             40934474  ../Data/insta_data/8.jpg   \n",
       "\n",
       "             datetime  hour_of_day  day_of_week_sin  day_of_week_cos  \n",
       "0 2020-07-08 02:06:49            2         0.974928        -0.222521  \n",
       "1 2020-07-01 02:47:46            2         0.974928        -0.222521  \n",
       "2 2020-06-26 01:52:21            1        -0.433884        -0.900969  \n",
       "3 2020-06-24 06:44:07            6         0.974928        -0.222521  \n",
       "4 2020-06-21 01:37:41            1        -0.781831         0.623490  "
      ]
     },
     "execution_count": 37,
     "metadata": {},
     "output_type": "execute_result"
    }
   ],
   "source": [
    "cleaned_df.head()"
   ]
  },
  {
   "cell_type": "code",
   "execution_count": 39,
   "metadata": {},
   "outputs": [],
   "source": [
    "cleaned_df['year'] = cleaned_df['datetime'].dt.year\n",
    "cleaned_df['month'] = cleaned_df['datetime'].dt.month\n",
    "cleaned_df['day'] = cleaned_df['datetime'].dt.day\n",
    "cleaned_df = cleaned_df.drop('datetime', axis=1)"
   ]
  },
  {
   "cell_type": "code",
   "execution_count": 40,
   "metadata": {},
   "outputs": [
    {
     "data": {
      "text/html": [
       "<div>\n",
       "<style scoped>\n",
       "    .dataframe tbody tr th:only-of-type {\n",
       "        vertical-align: middle;\n",
       "    }\n",
       "\n",
       "    .dataframe tbody tr th {\n",
       "        vertical-align: top;\n",
       "    }\n",
       "\n",
       "    .dataframe thead th {\n",
       "        text-align: right;\n",
       "    }\n",
       "</style>\n",
       "<table border=\"1\" class=\"dataframe\">\n",
       "  <thead>\n",
       "    <tr style=\"text-align: right;\">\n",
       "      <th></th>\n",
       "      <th>likes</th>\n",
       "      <th>no_of_comments</th>\n",
       "      <th>follower_count_at_t</th>\n",
       "      <th>image_path</th>\n",
       "      <th>hour_of_day</th>\n",
       "      <th>day_of_week_sin</th>\n",
       "      <th>day_of_week_cos</th>\n",
       "      <th>year</th>\n",
       "      <th>month</th>\n",
       "      <th>day</th>\n",
       "    </tr>\n",
       "  </thead>\n",
       "  <tbody>\n",
       "    <tr>\n",
       "      <th>0</th>\n",
       "      <td>154552</td>\n",
       "      <td>0</td>\n",
       "      <td>40934474</td>\n",
       "      <td>../Data/insta_data/0.jpg</td>\n",
       "      <td>2</td>\n",
       "      <td>0.974928</td>\n",
       "      <td>-0.222521</td>\n",
       "      <td>2020</td>\n",
       "      <td>7</td>\n",
       "      <td>8</td>\n",
       "    </tr>\n",
       "    <tr>\n",
       "      <th>1</th>\n",
       "      <td>97386</td>\n",
       "      <td>0</td>\n",
       "      <td>40934474</td>\n",
       "      <td>../Data/insta_data/2.jpg</td>\n",
       "      <td>2</td>\n",
       "      <td>0.974928</td>\n",
       "      <td>-0.222521</td>\n",
       "      <td>2020</td>\n",
       "      <td>7</td>\n",
       "      <td>1</td>\n",
       "    </tr>\n",
       "    <tr>\n",
       "      <th>2</th>\n",
       "      <td>145632</td>\n",
       "      <td>0</td>\n",
       "      <td>40934474</td>\n",
       "      <td>../Data/insta_data/4.jpg</td>\n",
       "      <td>1</td>\n",
       "      <td>-0.433884</td>\n",
       "      <td>-0.900969</td>\n",
       "      <td>2020</td>\n",
       "      <td>6</td>\n",
       "      <td>26</td>\n",
       "    </tr>\n",
       "    <tr>\n",
       "      <th>3</th>\n",
       "      <td>76461</td>\n",
       "      <td>0</td>\n",
       "      <td>40934474</td>\n",
       "      <td>../Data/insta_data/6.jpg</td>\n",
       "      <td>6</td>\n",
       "      <td>0.974928</td>\n",
       "      <td>-0.222521</td>\n",
       "      <td>2020</td>\n",
       "      <td>6</td>\n",
       "      <td>24</td>\n",
       "    </tr>\n",
       "    <tr>\n",
       "      <th>4</th>\n",
       "      <td>174620</td>\n",
       "      <td>0</td>\n",
       "      <td>40934474</td>\n",
       "      <td>../Data/insta_data/8.jpg</td>\n",
       "      <td>1</td>\n",
       "      <td>-0.781831</td>\n",
       "      <td>0.623490</td>\n",
       "      <td>2020</td>\n",
       "      <td>6</td>\n",
       "      <td>21</td>\n",
       "    </tr>\n",
       "  </tbody>\n",
       "</table>\n",
       "</div>"
      ],
      "text/plain": [
       "    likes  no_of_comments  follower_count_at_t                image_path  \\\n",
       "0  154552               0             40934474  ../Data/insta_data/0.jpg   \n",
       "1   97386               0             40934474  ../Data/insta_data/2.jpg   \n",
       "2  145632               0             40934474  ../Data/insta_data/4.jpg   \n",
       "3   76461               0             40934474  ../Data/insta_data/6.jpg   \n",
       "4  174620               0             40934474  ../Data/insta_data/8.jpg   \n",
       "\n",
       "   hour_of_day  day_of_week_sin  day_of_week_cos  year  month  day  \n",
       "0            2         0.974928        -0.222521  2020      7    8  \n",
       "1            2         0.974928        -0.222521  2020      7    1  \n",
       "2            1        -0.433884        -0.900969  2020      6   26  \n",
       "3            6         0.974928        -0.222521  2020      6   24  \n",
       "4            1        -0.781831         0.623490  2020      6   21  "
      ]
     },
     "execution_count": 40,
     "metadata": {},
     "output_type": "execute_result"
    }
   ],
   "source": [
    "cleaned_df.head()"
   ]
  },
  {
   "cell_type": "code",
   "execution_count": 41,
   "metadata": {},
   "outputs": [
    {
     "name": "stdout",
     "output_type": "stream",
     "text": [
      "[2020 2019 2018 2017]\n"
     ]
    }
   ],
   "source": [
    "#NEED TO ENCODE YEAR\n",
    "unique_years = cleaned_df['year'].unique()\n",
    "print(unique_years)\n"
   ]
  },
  {
   "cell_type": "code",
   "execution_count": 42,
   "metadata": {},
   "outputs": [],
   "source": [
    "year_mapping = {2017: 1, 2018: 2, 2019: 3, 2020: 4}\n",
    "cleaned_df['year'] = cleaned_df['year'].map(year_mapping)"
   ]
  },
  {
   "cell_type": "code",
   "execution_count": 44,
   "metadata": {},
   "outputs": [
    {
     "data": {
      "text/html": [
       "<div>\n",
       "<style scoped>\n",
       "    .dataframe tbody tr th:only-of-type {\n",
       "        vertical-align: middle;\n",
       "    }\n",
       "\n",
       "    .dataframe tbody tr th {\n",
       "        vertical-align: top;\n",
       "    }\n",
       "\n",
       "    .dataframe thead th {\n",
       "        text-align: right;\n",
       "    }\n",
       "</style>\n",
       "<table border=\"1\" class=\"dataframe\">\n",
       "  <thead>\n",
       "    <tr style=\"text-align: right;\">\n",
       "      <th></th>\n",
       "      <th>likes</th>\n",
       "      <th>no_of_comments</th>\n",
       "      <th>follower_count_at_t</th>\n",
       "      <th>image_path</th>\n",
       "      <th>hour_of_day</th>\n",
       "      <th>day_of_week_sin</th>\n",
       "      <th>day_of_week_cos</th>\n",
       "      <th>year</th>\n",
       "      <th>month</th>\n",
       "      <th>day</th>\n",
       "    </tr>\n",
       "  </thead>\n",
       "  <tbody>\n",
       "    <tr>\n",
       "      <th>0</th>\n",
       "      <td>154552</td>\n",
       "      <td>0</td>\n",
       "      <td>40934474</td>\n",
       "      <td>../Data/insta_data/0.jpg</td>\n",
       "      <td>2</td>\n",
       "      <td>0.974928</td>\n",
       "      <td>-0.222521</td>\n",
       "      <td>4</td>\n",
       "      <td>7</td>\n",
       "      <td>8</td>\n",
       "    </tr>\n",
       "    <tr>\n",
       "      <th>1</th>\n",
       "      <td>97386</td>\n",
       "      <td>0</td>\n",
       "      <td>40934474</td>\n",
       "      <td>../Data/insta_data/2.jpg</td>\n",
       "      <td>2</td>\n",
       "      <td>0.974928</td>\n",
       "      <td>-0.222521</td>\n",
       "      <td>4</td>\n",
       "      <td>7</td>\n",
       "      <td>1</td>\n",
       "    </tr>\n",
       "    <tr>\n",
       "      <th>2</th>\n",
       "      <td>145632</td>\n",
       "      <td>0</td>\n",
       "      <td>40934474</td>\n",
       "      <td>../Data/insta_data/4.jpg</td>\n",
       "      <td>1</td>\n",
       "      <td>-0.433884</td>\n",
       "      <td>-0.900969</td>\n",
       "      <td>4</td>\n",
       "      <td>6</td>\n",
       "      <td>26</td>\n",
       "    </tr>\n",
       "    <tr>\n",
       "      <th>3</th>\n",
       "      <td>76461</td>\n",
       "      <td>0</td>\n",
       "      <td>40934474</td>\n",
       "      <td>../Data/insta_data/6.jpg</td>\n",
       "      <td>6</td>\n",
       "      <td>0.974928</td>\n",
       "      <td>-0.222521</td>\n",
       "      <td>4</td>\n",
       "      <td>6</td>\n",
       "      <td>24</td>\n",
       "    </tr>\n",
       "    <tr>\n",
       "      <th>4</th>\n",
       "      <td>174620</td>\n",
       "      <td>0</td>\n",
       "      <td>40934474</td>\n",
       "      <td>../Data/insta_data/8.jpg</td>\n",
       "      <td>1</td>\n",
       "      <td>-0.781831</td>\n",
       "      <td>0.623490</td>\n",
       "      <td>4</td>\n",
       "      <td>6</td>\n",
       "      <td>21</td>\n",
       "    </tr>\n",
       "  </tbody>\n",
       "</table>\n",
       "</div>"
      ],
      "text/plain": [
       "    likes  no_of_comments  follower_count_at_t                image_path  \\\n",
       "0  154552               0             40934474  ../Data/insta_data/0.jpg   \n",
       "1   97386               0             40934474  ../Data/insta_data/2.jpg   \n",
       "2  145632               0             40934474  ../Data/insta_data/4.jpg   \n",
       "3   76461               0             40934474  ../Data/insta_data/6.jpg   \n",
       "4  174620               0             40934474  ../Data/insta_data/8.jpg   \n",
       "\n",
       "   hour_of_day  day_of_week_sin  day_of_week_cos  year  month  day  \n",
       "0            2         0.974928        -0.222521     4      7    8  \n",
       "1            2         0.974928        -0.222521     4      7    1  \n",
       "2            1        -0.433884        -0.900969     4      6   26  \n",
       "3            6         0.974928        -0.222521     4      6   24  \n",
       "4            1        -0.781831         0.623490     4      6   21  "
      ]
     },
     "execution_count": 44,
     "metadata": {},
     "output_type": "execute_result"
    }
   ],
   "source": [
    "cleaned_df.head()"
   ]
  },
  {
   "cell_type": "code",
   "execution_count": 45,
   "metadata": {},
   "outputs": [
    {
     "name": "stdout",
     "output_type": "stream",
     "text": [
      "Cleaned DataFrame saved to 'cleaned_data.csv'\n"
     ]
    }
   ],
   "source": [
    "#storing this cleaned df to a csv file\n",
    "cleaned_df.to_csv('../data/cleaned_data.csv', index=False)\n",
    "\n",
    "print(\"Cleaned DataFrame saved to 'cleaned_data.csv'\")"
   ]
  },
  {
   "cell_type": "code",
   "execution_count": null,
   "metadata": {},
   "outputs": [],
   "source": []
  }
 ],
 "metadata": {
  "kernelspec": {
   "display_name": "Python 3",
   "language": "python",
   "name": "python3"
  },
  "language_info": {
   "codemirror_mode": {
    "name": "ipython",
    "version": 3
   },
   "file_extension": ".py",
   "mimetype": "text/x-python",
   "name": "python",
   "nbconvert_exporter": "python",
   "pygments_lexer": "ipython3",
   "version": "3.10.10"
  },
  "orig_nbformat": 4,
  "vscode": {
   "interpreter": {
    "hash": "b0fa6594d8f4cbf19f97940f81e996739fb7646882a419484c72d19e05852a7e"
   }
  }
 },
 "nbformat": 4,
 "nbformat_minor": 2
}
